{
 "cells": [
  {
   "cell_type": "code",
   "execution_count": 3,
   "id": "e95e88d5",
   "metadata": {},
   "outputs": [],
   "source": [
    "import scipy.io\n",
    "from PIL import Image\n",
    "import numpy as np\n",
    "from sklearn.decomposition import PCA\n",
    "from skimage.filters import threshold_multiotsu"
   ]
  },
  {
   "cell_type": "code",
   "execution_count": 4,
   "id": "1cff27bd",
   "metadata": {},
   "outputs": [],
   "source": [
    "\n",
    "# Load the .mat file\n",
    "mat = scipy.io.loadmat('Indian_pines.mat')\n",
    "\n",
    "# Extract the image data (replace 'indian_pines' with the correct key if different)\n",
    "image_data = mat['indian_pines']\n",
    "\n",
    "# Reshape the data to 2D (pixels x bands) for PCA\n",
    "pixels, bands = image_data.shape[0] * image_data.shape[1], image_data.shape[2]\n",
    "image_data_reshaped = image_data.reshape(pixels, bands)\n",
    "\n",
    "# Apply PCA to reduce to 1 component\n",
    "pca = PCA(n_components=1)\n",
    "image_data_pca = pca.fit_transform(image_data_reshaped)\n",
    "\n",
    "# Reshape back to 2D (original spatial dimensions)\n",
    "image_data_pca_reshaped = image_data_pca.reshape(image_data.shape[0], image_data.shape[1])\n",
    "\n",
    "# Normalize the data to fit into the 8-bit range (0-255)\n",
    "image_data_normalized = (255 * (image_data_pca_reshaped - np.min(image_data_pca_reshaped)) / \n",
    "                         (np.max(image_data_pca_reshaped) - np.min(image_data_pca_reshaped))).astype(np.uint8)\n",
    "\n",
    "# Convert to PIL Image\n",
    "image = Image.fromarray(image_data_normalized)\n"
   ]
  },
  {
   "cell_type": "code",
   "execution_count": 7,
   "id": "cae1f7b0",
   "metadata": {},
   "outputs": [
    {
     "name": "stdout",
     "output_type": "stream",
     "text": [
      "Image min: 0, max: 255\n"
     ]
    }
   ],
   "source": [
    "print(f\"Image min: {np.min(image_data_normalized)}, max: {np.max(image_data_normalized)}\")"
   ]
  },
  {
   "cell_type": "code",
   "execution_count": 9,
   "id": "4d77d5bd",
   "metadata": {},
   "outputs": [
    {
     "data": {
      "text/plain": [
       "array([[0, 0, 0, ..., 0, 0, 0],\n",
       "       [0, 0, 0, ..., 0, 0, 0],\n",
       "       [0, 0, 0, ..., 0, 0, 0],\n",
       "       ...,\n",
       "       [0, 0, 0, ..., 0, 0, 0],\n",
       "       [0, 0, 0, ..., 0, 0, 0],\n",
       "       [0, 0, 0, ..., 0, 0, 0]], dtype=uint8)"
      ]
     },
     "execution_count": 9,
     "metadata": {},
     "output_type": "execute_result"
    }
   ],
   "source": [
    "\n",
    "def patch_based_multiotsu(image, patch_size):\n",
    "    height, width = image.shape[:2]\n",
    "    segmented = np.zeros_like(image)\n",
    "    \n",
    "    for y in range(0, height - patch_size, patch_size):\n",
    "        for x in range(0, width - patch_size, patch_size):\n",
    "            patch = image[y:y+patch_size, x:x+patch_size]\n",
    "            try:\n",
    "                # Increase number of bins and add error handling\n",
    "                print(f\"Processing patch at ({x}, {y}) with shape {patch.shape}\")\n",
    "                thresholds = threshold_multiotsu(patch, nbins=256, classes=5)#min(optimal_cluster_number, 5))\n",
    "                regions = np.digitize(patch, bins=thresholds)\n",
    "                segmented[y:y+patch_size, x:x+patch_size] = regions * 85\n",
    "            except ValueError:\n",
    "                # If multi-otsu fails, fall back to simple thresholding\n",
    "                print(f\"Multi-Otsu failed for patch at ({x}, {y}), using simple thresholding.\")\n",
    "                threshold = np.mean(patch)\n",
    "                segmented[y:y+patch_size, x:x+patch_size] = (patch > threshold) * 170\n",
    "    \n",
    "    return segmented\n",
    "\n",
    "patches = patch_based_multiotsu(image_data_normalized, 145)\n",
    "patches\n"
   ]
  },
  {
   "cell_type": "code",
   "execution_count": 9,
   "id": "ca4978dc",
   "metadata": {},
   "outputs": [],
   "source": [
    "#print(f\"Processing patch at ({x}, {y}) with shape {patch.shape}\")\n",
    "thresholds = threshold_multiotsu(image_data_normalized, nbins=256, classes=6)#min(optimal_cluster_number, 5))\n",
    "regions = np.digitize(image_data_normalized, bins=thresholds)\n",
    "# segmented[y:y+patch_size, x:x+patch_size] = regions * 85"
   ]
  },
  {
   "cell_type": "code",
   "execution_count": 8,
   "id": "b45b2d16",
   "metadata": {},
   "outputs": [
    {
     "data": {
      "image/jpeg": "[encoded data removed]",
      "image/png": "[encoded data removed]",
      "text/plain": [
       "<PIL.Image.Image image mode=RGB size=145x145>"
      ]
     },
     "metadata": {},
     "output_type": "display_data"
    }
   ],
   "source": [
    "regions\n",
    "# Convert the segmented image to a PIL Image with different colors for each region\n",
    "segmented_image = np.zeros((image_data_normalized.shape[0], image_data_normalized.shape[1], 3), dtype=np.uint8)\n",
    "for i in range(5):\n",
    "    segmented_image[regions == i] = np.array([i * 51, i * 102, i * 153])  # Different colors for each region\n",
    "segmented_image_pil = Image.fromarray(segmented_image)\n",
    "segmented_image_pil.show()"
   ]
  }
 ],
 "metadata": {
  "kernelspec": {
   "display_name": ".venv",
   "language": "python",
   "name": "python3"
  },
  "language_info": {
   "codemirror_mode": {
    "name": "ipython",
    "version": 3
   },
   "file_extension": ".py",
   "mimetype": "text/x-python",
   "name": "python",
   "nbconvert_exporter": "python",
   "pygments_lexer": "ipython3",
   "version": "3.12.1"
  }
 },
 "nbformat": 4,
 "nbformat_minor": 5
}
